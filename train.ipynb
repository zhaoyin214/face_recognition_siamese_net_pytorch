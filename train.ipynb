{
 "cells": [
  {
   "cell_type": "code",
   "execution_count": 1,
   "metadata": {},
   "outputs": [],
   "source": [
    "import torch\n",
    "import torch.optim as optim\n",
    "\n",
    "from torch.utils.data import DataLoader, Dataset, random_split\n",
    "\n",
    "import torchvision.transforms as transforms\n",
    "from torchvision.datasets import ImageFolder\n",
    "from torchvision.utils import make_grid\n",
    "\n",
    "\n",
    "from configs.config import config\n",
    "from nets.siamese_net import SiameseNet, ContrastDataset, ContrastLoss\n",
    "from utils.utils import plot_loss, imshow\n",
    "\n",
    "# from sklearn.model_selection import train_test_split"
   ]
  },
  {
   "cell_type": "markdown",
   "metadata": {},
   "source": [
    "# 1 训练数据集"
   ]
  },
  {
   "cell_type": "markdown",
   "metadata": {},
   "source": [
    "## 1.1 数据集"
   ]
  },
  {
   "cell_type": "markdown",
   "metadata": {},
   "source": [
    "训练集：CASIA-WebFace\n",
    "\n",
    "验证集：ORL-Face"
   ]
  },
  {
   "cell_type": "code",
   "execution_count": 2,
   "metadata": {},
   "outputs": [
    {
     "name": "stdout",
     "output_type": "stream",
     "text": [
      "number of casia identities: 10575\n",
      "number of casia faces: 494414\n"
     ]
    }
   ],
   "source": [
    "train_set = ImageFolder(root=config[\"train_set_root\"])\n",
    "\n",
    "n_train_identities = len(train_set.classes)\n",
    "print(\"number of casia identities: {}\".format(len(train_set.classes)))\n",
    "print(\"number of casia faces: {}\".format(len(train_set)))\n"
   ]
  },
  {
   "cell_type": "code",
   "execution_count": 3,
   "metadata": {},
   "outputs": [
    {
     "name": "stdout",
     "output_type": "stream",
     "text": [
      "number of orl identities: 40\n",
      "number of orl faces: 400\n"
     ]
    }
   ],
   "source": [
    "val_set = ImageFolder(root=config[\"test_set_root\"])\n",
    "\n",
    "n_val_identities = len(val_set.classes)\n",
    "print(\"number of orl identities: {}\".format(len(val_set.classes)))\n",
    "print(\"number of orl faces: {}\".format(len(val_set)))\n"
   ]
  },
  {
   "cell_type": "markdown",
   "metadata": {},
   "source": [
    "## 1.2 对比数据集"
   ]
  },
  {
   "cell_type": "code",
   "execution_count": 5,
   "metadata": {},
   "outputs": [],
   "source": [
    "transform = transforms.Compose([transforms.Resize((100, 100)),\n",
    "                                transforms.RandomRotation(10),\n",
    "                                transforms.RandomCrop((90, 90)),\n",
    "                                transforms.ToTensor()])\n",
    "train_contrast_set = ContrastDataset(img_folder_dataset=train_set,\n",
    "                                     transform=transform)\n",
    "\n",
    "val_contrast_set = ContrastDataset(img_folder_dataset=val_set,\n",
    "                                   transform=None)\n"
   ]
  },
  {
   "cell_type": "markdown",
   "metadata": {},
   "source": [
    "## 1.3 加载器"
   ]
  },
  {
   "cell_type": "code",
   "execution_count": null,
   "metadata": {},
   "outputs": [],
   "source": [
    "train_set_loader = DataLoader(dataset=train_contrast_set,\n",
    "                              batch_size=config[\"train_batch_size\"],\n",
    "                              shuffle=True,\n",
    "                              num_workers=0)\n",
    "val_set_loader = DataLoader(dataset=val_contrast_set,\n",
    "                            batch_size=config[\"train_batch_size\"],\n",
    "                            shuffle=True,\n",
    "                            num_workers=0)\n"
   ]
  },
  {
   "cell_type": "code",
   "execution_count": null,
   "metadata": {},
   "outputs": [],
   "source": [
    "# gpu\n",
    "device = torch.device(\"cuda:0\" if torch.cuda.is_available() else \"cpu\")\n",
    "\n",
    "# network\n",
    "net = SiameseNet(dim_embedding=config[\"dim_embedding\"],\n",
    "                 is_rgb=config[\"is_rgb\"])\n",
    "net.to(device)\n",
    "\n",
    "# loss\n",
    "criterion = ContrastLoss()\n",
    "optimizer = optim.Adam(net.parameters(), lr=1e-4)\n",
    "\n",
    "# train\n",
    "counter = []\n",
    "loss_history = []\n",
    "\n",
    "for epoch in range(config[\"train_epochs\"]):\n",
    "\n",
    "    for idx, data in enumerate(train_set_loader):\n",
    "\n",
    "        img1s, img2s, labels = data[0].to(device), data[1].to(device), data[2].to(device)\n",
    "\n",
    "        # zero the parameter gradients\n",
    "        optimizer.zero_grad()\n",
    "\n",
    "        # forward + backward + optimize\n",
    "        embedding1s, embedding2s = net(img1s, img2s)\n",
    "        train_loss = criterion(embedding1s, embedding2s, labels)\n",
    "        train_loss.backward()\n",
    "        optimizer.step()\n",
    "\n",
    "        if idx % 10 == 0 :\n",
    "            print(\"Epoch number {}\\n Current loss {}\\n\".format(epoch, train_loss.item()))\n",
    "            counter.append(idx + epoch * len_contrast_set)\n",
    "            loss_history.append(train_loss.item())\n",
    "\n",
    "plot_loss(counter, loss_history)\n",
    "\n",
    "# 保存模型\n",
    "torch.save(net.state_dict(), \"best.siamese.ph\")\n"
   ]
  }
 ],
 "metadata": {
  "kernelspec": {
   "display_name": "Python 3",
   "language": "python",
   "name": "python3"
  },
  "language_info": {
   "codemirror_mode": {
    "name": "ipython",
    "version": 3
   },
   "file_extension": ".py",
   "mimetype": "text/x-python",
   "name": "python",
   "nbconvert_exporter": "python",
   "pygments_lexer": "ipython3",
   "version": "3.7.3"
  }
 },
 "nbformat": 4,
 "nbformat_minor": 2
}
